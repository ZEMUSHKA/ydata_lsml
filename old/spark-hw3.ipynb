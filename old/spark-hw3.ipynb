{
 "cells": [
  {
   "cell_type": "code",
   "execution_count": 1,
   "metadata": {},
   "outputs": [],
   "source": [
    "# Checklist:\n",
    "# AWS emr-5.29.0\n",
    "# MASTER r5d.8xlarge 1x, no EBS\n",
    "# CORE r5d.8xlarge 4x, no EBS\n",
    "# Custom bootstrap action: s3://ydatazian/bootstrap.sh\n",
    "# Allow ssh in master node security group"
   ]
  },
  {
   "cell_type": "code",
   "execution_count": 1,
   "metadata": {},
   "outputs": [],
   "source": [
    "import tqdm.notebook as tqdm\n",
    "import numpy as np\n",
    "import scipy\n",
    "import sklearn\n",
    "import matplotlib.pyplot as plt\n",
    "import pandas as pd\n",
    "pd.set_option('max_colwidth', 120 * 10)\n",
    "pd.set_option('display.width', 120)"
   ]
  },
  {
   "cell_type": "markdown",
   "metadata": {},
   "source": [
    "# SparkSession\n",
    "\n",
    "https://spark.apache.org/docs/2.4.4/api/python/pyspark.html\n",
    "\n",
    "https://spark.apache.org/docs/2.4.4/api/python/pyspark.sql.html"
   ]
  },
  {
   "cell_type": "code",
   "execution_count": 2,
   "metadata": {
    "scrolled": true
   },
   "outputs": [
    {
     "name": "stdout",
     "output_type": "stream",
     "text": [
      "NameNode: http://ec2-34-206-52-29.compute-1.amazonaws.com:50070\n",
      "YARN: http://ec2-34-206-52-29.compute-1.amazonaws.com:8088\n",
      "Spark UI: http://ec2-34-206-52-29.compute-1.amazonaws.com:20888/proxy/application_1590528820339_0001\n"
     ]
    }
   ],
   "source": [
    "import findspark\n",
    "findspark.init()\n",
    "\n",
    "import spark_utils\n",
    "from pyspark import SparkContext, SparkConf\n",
    "from pyspark.sql import SparkSession\n",
    "sc = SparkContext(\"yarn\", \"My App\", conf=spark_utils.get_spark_conf())\n",
    "se = SparkSession(sc)\n",
    "spark_utils.print_ui_links()"
   ]
  },
  {
   "cell_type": "markdown",
   "metadata": {},
   "source": [
    "# Register all tables for sql queries"
   ]
  },
  {
   "cell_type": "code",
   "execution_count": 3,
   "metadata": {
    "scrolled": true
   },
   "outputs": [
    {
     "data": {
      "application/vnd.jupyter.widget-view+json": {
       "model_id": "d855dfaef0594aa4bc9cb8d59b071e4e",
       "version_major": 2,
       "version_minor": 0
      },
      "text/plain": [
       "HBox(children=(FloatProgress(value=0.0, max=10.0), HTML(value='')))"
      ]
     },
     "metadata": {},
     "output_type": "display_data"
    },
    {
     "name": "stdout",
     "output_type": "stream",
     "text": [
      "clicks_test\n"
     ]
    },
    {
     "data": {
      "text/html": [
       "<div>\n",
       "<style scoped>\n",
       "    .dataframe tbody tr th:only-of-type {\n",
       "        vertical-align: middle;\n",
       "    }\n",
       "\n",
       "    .dataframe tbody tr th {\n",
       "        vertical-align: top;\n",
       "    }\n",
       "\n",
       "    .dataframe thead th {\n",
       "        text-align: right;\n",
       "    }\n",
       "</style>\n",
       "<table border=\"1\" class=\"dataframe\">\n",
       "  <thead>\n",
       "    <tr style=\"text-align: right;\">\n",
       "      <th></th>\n",
       "      <th>display_id</th>\n",
       "      <th>ad_id</th>\n",
       "    </tr>\n",
       "  </thead>\n",
       "  <tbody>\n",
       "    <tr>\n",
       "      <th>0</th>\n",
       "      <td>16874594</td>\n",
       "      <td>66758</td>\n",
       "    </tr>\n",
       "    <tr>\n",
       "      <th>1</th>\n",
       "      <td>16874594</td>\n",
       "      <td>150083</td>\n",
       "    </tr>\n",
       "    <tr>\n",
       "      <th>2</th>\n",
       "      <td>16874594</td>\n",
       "      <td>162754</td>\n",
       "    </tr>\n",
       "  </tbody>\n",
       "</table>\n",
       "</div>"
      ],
      "text/plain": [
       "  display_id   ad_id\n",
       "0   16874594   66758\n",
       "1   16874594  150083\n",
       "2   16874594  162754"
      ]
     },
     "metadata": {},
     "output_type": "display_data"
    },
    {
     "name": "stdout",
     "output_type": "stream",
     "text": [
      "clicks_train\n"
     ]
    },
    {
     "data": {
      "text/html": [
       "<div>\n",
       "<style scoped>\n",
       "    .dataframe tbody tr th:only-of-type {\n",
       "        vertical-align: middle;\n",
       "    }\n",
       "\n",
       "    .dataframe tbody tr th {\n",
       "        vertical-align: top;\n",
       "    }\n",
       "\n",
       "    .dataframe thead th {\n",
       "        text-align: right;\n",
       "    }\n",
       "</style>\n",
       "<table border=\"1\" class=\"dataframe\">\n",
       "  <thead>\n",
       "    <tr style=\"text-align: right;\">\n",
       "      <th></th>\n",
       "      <th>display_id</th>\n",
       "      <th>ad_id</th>\n",
       "      <th>clicked</th>\n",
       "    </tr>\n",
       "  </thead>\n",
       "  <tbody>\n",
       "    <tr>\n",
       "      <th>0</th>\n",
       "      <td>1</td>\n",
       "      <td>42337</td>\n",
       "      <td>0</td>\n",
       "    </tr>\n",
       "    <tr>\n",
       "      <th>1</th>\n",
       "      <td>1</td>\n",
       "      <td>139684</td>\n",
       "      <td>0</td>\n",
       "    </tr>\n",
       "    <tr>\n",
       "      <th>2</th>\n",
       "      <td>1</td>\n",
       "      <td>144739</td>\n",
       "      <td>1</td>\n",
       "    </tr>\n",
       "  </tbody>\n",
       "</table>\n",
       "</div>"
      ],
      "text/plain": [
       "  display_id   ad_id clicked\n",
       "0          1   42337       0\n",
       "1          1  139684       0\n",
       "2          1  144739       1"
      ]
     },
     "metadata": {},
     "output_type": "display_data"
    },
    {
     "name": "stdout",
     "output_type": "stream",
     "text": [
      "documents_categories\n"
     ]
    },
    {
     "data": {
      "text/html": [
       "<div>\n",
       "<style scoped>\n",
       "    .dataframe tbody tr th:only-of-type {\n",
       "        vertical-align: middle;\n",
       "    }\n",
       "\n",
       "    .dataframe tbody tr th {\n",
       "        vertical-align: top;\n",
       "    }\n",
       "\n",
       "    .dataframe thead th {\n",
       "        text-align: right;\n",
       "    }\n",
       "</style>\n",
       "<table border=\"1\" class=\"dataframe\">\n",
       "  <thead>\n",
       "    <tr style=\"text-align: right;\">\n",
       "      <th></th>\n",
       "      <th>document_id</th>\n",
       "      <th>category_id</th>\n",
       "      <th>confidence_level</th>\n",
       "    </tr>\n",
       "  </thead>\n",
       "  <tbody>\n",
       "    <tr>\n",
       "      <th>0</th>\n",
       "      <td>1595802</td>\n",
       "      <td>1611</td>\n",
       "      <td>0.92</td>\n",
       "    </tr>\n",
       "    <tr>\n",
       "      <th>1</th>\n",
       "      <td>1595802</td>\n",
       "      <td>1610</td>\n",
       "      <td>0.07</td>\n",
       "    </tr>\n",
       "    <tr>\n",
       "      <th>2</th>\n",
       "      <td>1524246</td>\n",
       "      <td>1807</td>\n",
       "      <td>0.92</td>\n",
       "    </tr>\n",
       "  </tbody>\n",
       "</table>\n",
       "</div>"
      ],
      "text/plain": [
       "  document_id category_id confidence_level\n",
       "0     1595802        1611             0.92\n",
       "1     1595802        1610             0.07\n",
       "2     1524246        1807             0.92"
      ]
     },
     "metadata": {},
     "output_type": "display_data"
    },
    {
     "name": "stdout",
     "output_type": "stream",
     "text": [
      "documents_entities\n"
     ]
    },
    {
     "data": {
      "text/html": [
       "<div>\n",
       "<style scoped>\n",
       "    .dataframe tbody tr th:only-of-type {\n",
       "        vertical-align: middle;\n",
       "    }\n",
       "\n",
       "    .dataframe tbody tr th {\n",
       "        vertical-align: top;\n",
       "    }\n",
       "\n",
       "    .dataframe thead th {\n",
       "        text-align: right;\n",
       "    }\n",
       "</style>\n",
       "<table border=\"1\" class=\"dataframe\">\n",
       "  <thead>\n",
       "    <tr style=\"text-align: right;\">\n",
       "      <th></th>\n",
       "      <th>document_id</th>\n",
       "      <th>entity_id</th>\n",
       "      <th>confidence_level</th>\n",
       "    </tr>\n",
       "  </thead>\n",
       "  <tbody>\n",
       "    <tr>\n",
       "      <th>0</th>\n",
       "      <td>1524246</td>\n",
       "      <td>f9eec25663db4cd83183f5c805186f16</td>\n",
       "      <td>0.672865314504701</td>\n",
       "    </tr>\n",
       "    <tr>\n",
       "      <th>1</th>\n",
       "      <td>1524246</td>\n",
       "      <td>55ebcfbdaff1d6f60b3907151f38527a</td>\n",
       "      <td>0.399113728441297</td>\n",
       "    </tr>\n",
       "    <tr>\n",
       "      <th>2</th>\n",
       "      <td>1524246</td>\n",
       "      <td>839907a972930b17b125eb0247898412</td>\n",
       "      <td>0.392095749652966</td>\n",
       "    </tr>\n",
       "  </tbody>\n",
       "</table>\n",
       "</div>"
      ],
      "text/plain": [
       "  document_id                         entity_id   confidence_level\n",
       "0     1524246  f9eec25663db4cd83183f5c805186f16  0.672865314504701\n",
       "1     1524246  55ebcfbdaff1d6f60b3907151f38527a  0.399113728441297\n",
       "2     1524246  839907a972930b17b125eb0247898412  0.392095749652966"
      ]
     },
     "metadata": {},
     "output_type": "display_data"
    },
    {
     "name": "stdout",
     "output_type": "stream",
     "text": [
      "documents_meta\n"
     ]
    },
    {
     "data": {
      "text/html": [
       "<div>\n",
       "<style scoped>\n",
       "    .dataframe tbody tr th:only-of-type {\n",
       "        vertical-align: middle;\n",
       "    }\n",
       "\n",
       "    .dataframe tbody tr th {\n",
       "        vertical-align: top;\n",
       "    }\n",
       "\n",
       "    .dataframe thead th {\n",
       "        text-align: right;\n",
       "    }\n",
       "</style>\n",
       "<table border=\"1\" class=\"dataframe\">\n",
       "  <thead>\n",
       "    <tr style=\"text-align: right;\">\n",
       "      <th></th>\n",
       "      <th>document_id</th>\n",
       "      <th>source_id</th>\n",
       "      <th>publisher_id</th>\n",
       "      <th>publish_time</th>\n",
       "    </tr>\n",
       "  </thead>\n",
       "  <tbody>\n",
       "    <tr>\n",
       "      <th>0</th>\n",
       "      <td>1595802</td>\n",
       "      <td>1</td>\n",
       "      <td>603</td>\n",
       "      <td>2016-06-05 00:00:00</td>\n",
       "    </tr>\n",
       "    <tr>\n",
       "      <th>1</th>\n",
       "      <td>1524246</td>\n",
       "      <td>1</td>\n",
       "      <td>603</td>\n",
       "      <td>2016-05-26 11:00:00</td>\n",
       "    </tr>\n",
       "    <tr>\n",
       "      <th>2</th>\n",
       "      <td>1617787</td>\n",
       "      <td>1</td>\n",
       "      <td>603</td>\n",
       "      <td>2016-05-27 00:00:00</td>\n",
       "    </tr>\n",
       "  </tbody>\n",
       "</table>\n",
       "</div>"
      ],
      "text/plain": [
       "  document_id source_id publisher_id         publish_time\n",
       "0     1595802         1          603  2016-06-05 00:00:00\n",
       "1     1524246         1          603  2016-05-26 11:00:00\n",
       "2     1617787         1          603  2016-05-27 00:00:00"
      ]
     },
     "metadata": {},
     "output_type": "display_data"
    },
    {
     "name": "stdout",
     "output_type": "stream",
     "text": [
      "documents_topics\n"
     ]
    },
    {
     "data": {
      "text/html": [
       "<div>\n",
       "<style scoped>\n",
       "    .dataframe tbody tr th:only-of-type {\n",
       "        vertical-align: middle;\n",
       "    }\n",
       "\n",
       "    .dataframe tbody tr th {\n",
       "        vertical-align: top;\n",
       "    }\n",
       "\n",
       "    .dataframe thead th {\n",
       "        text-align: right;\n",
       "    }\n",
       "</style>\n",
       "<table border=\"1\" class=\"dataframe\">\n",
       "  <thead>\n",
       "    <tr style=\"text-align: right;\">\n",
       "      <th></th>\n",
       "      <th>document_id</th>\n",
       "      <th>topic_id</th>\n",
       "      <th>confidence_level</th>\n",
       "    </tr>\n",
       "  </thead>\n",
       "  <tbody>\n",
       "    <tr>\n",
       "      <th>0</th>\n",
       "      <td>1595802</td>\n",
       "      <td>140</td>\n",
       "      <td>0.0731131601068925</td>\n",
       "    </tr>\n",
       "    <tr>\n",
       "      <th>1</th>\n",
       "      <td>1595802</td>\n",
       "      <td>16</td>\n",
       "      <td>0.0594164867373976</td>\n",
       "    </tr>\n",
       "    <tr>\n",
       "      <th>2</th>\n",
       "      <td>1595802</td>\n",
       "      <td>143</td>\n",
       "      <td>0.0454207537554526</td>\n",
       "    </tr>\n",
       "  </tbody>\n",
       "</table>\n",
       "</div>"
      ],
      "text/plain": [
       "  document_id topic_id    confidence_level\n",
       "0     1595802      140  0.0731131601068925\n",
       "1     1595802       16  0.0594164867373976\n",
       "2     1595802      143  0.0454207537554526"
      ]
     },
     "metadata": {},
     "output_type": "display_data"
    },
    {
     "name": "stdout",
     "output_type": "stream",
     "text": [
      "events\n"
     ]
    },
    {
     "data": {
      "text/html": [
       "<div>\n",
       "<style scoped>\n",
       "    .dataframe tbody tr th:only-of-type {\n",
       "        vertical-align: middle;\n",
       "    }\n",
       "\n",
       "    .dataframe tbody tr th {\n",
       "        vertical-align: top;\n",
       "    }\n",
       "\n",
       "    .dataframe thead th {\n",
       "        text-align: right;\n",
       "    }\n",
       "</style>\n",
       "<table border=\"1\" class=\"dataframe\">\n",
       "  <thead>\n",
       "    <tr style=\"text-align: right;\">\n",
       "      <th></th>\n",
       "      <th>display_id</th>\n",
       "      <th>uuid</th>\n",
       "      <th>document_id</th>\n",
       "      <th>timestamp</th>\n",
       "      <th>platform</th>\n",
       "      <th>geo_location</th>\n",
       "    </tr>\n",
       "  </thead>\n",
       "  <tbody>\n",
       "    <tr>\n",
       "      <th>0</th>\n",
       "      <td>1</td>\n",
       "      <td>cb8c55702adb93</td>\n",
       "      <td>379743</td>\n",
       "      <td>61</td>\n",
       "      <td>3</td>\n",
       "      <td>US&gt;SC&gt;519</td>\n",
       "    </tr>\n",
       "    <tr>\n",
       "      <th>1</th>\n",
       "      <td>2</td>\n",
       "      <td>79a85fa78311b9</td>\n",
       "      <td>1794259</td>\n",
       "      <td>81</td>\n",
       "      <td>2</td>\n",
       "      <td>US&gt;CA&gt;807</td>\n",
       "    </tr>\n",
       "    <tr>\n",
       "      <th>2</th>\n",
       "      <td>3</td>\n",
       "      <td>822932ce3d8757</td>\n",
       "      <td>1179111</td>\n",
       "      <td>182</td>\n",
       "      <td>2</td>\n",
       "      <td>US&gt;MI&gt;505</td>\n",
       "    </tr>\n",
       "  </tbody>\n",
       "</table>\n",
       "</div>"
      ],
      "text/plain": [
       "  display_id            uuid document_id timestamp platform geo_location\n",
       "0          1  cb8c55702adb93      379743        61        3    US>SC>519\n",
       "1          2  79a85fa78311b9     1794259        81        2    US>CA>807\n",
       "2          3  822932ce3d8757     1179111       182        2    US>MI>505"
      ]
     },
     "metadata": {},
     "output_type": "display_data"
    },
    {
     "name": "stdout",
     "output_type": "stream",
     "text": [
      "page_views\n"
     ]
    },
    {
     "data": {
      "text/html": [
       "<div>\n",
       "<style scoped>\n",
       "    .dataframe tbody tr th:only-of-type {\n",
       "        vertical-align: middle;\n",
       "    }\n",
       "\n",
       "    .dataframe tbody tr th {\n",
       "        vertical-align: top;\n",
       "    }\n",
       "\n",
       "    .dataframe thead th {\n",
       "        text-align: right;\n",
       "    }\n",
       "</style>\n",
       "<table border=\"1\" class=\"dataframe\">\n",
       "  <thead>\n",
       "    <tr style=\"text-align: right;\">\n",
       "      <th></th>\n",
       "      <th>uuid</th>\n",
       "      <th>document_id</th>\n",
       "      <th>timestamp</th>\n",
       "      <th>platform</th>\n",
       "      <th>geo_location</th>\n",
       "      <th>traffic_source</th>\n",
       "    </tr>\n",
       "  </thead>\n",
       "  <tbody>\n",
       "    <tr>\n",
       "      <th>0</th>\n",
       "      <td>1fd5f051fba643</td>\n",
       "      <td>120</td>\n",
       "      <td>31905835</td>\n",
       "      <td>1</td>\n",
       "      <td>RS</td>\n",
       "      <td>2</td>\n",
       "    </tr>\n",
       "    <tr>\n",
       "      <th>1</th>\n",
       "      <td>8557aa9004be3b</td>\n",
       "      <td>120</td>\n",
       "      <td>32053104</td>\n",
       "      <td>1</td>\n",
       "      <td>VN&gt;44</td>\n",
       "      <td>2</td>\n",
       "    </tr>\n",
       "    <tr>\n",
       "      <th>2</th>\n",
       "      <td>c351b277a358f0</td>\n",
       "      <td>120</td>\n",
       "      <td>54013023</td>\n",
       "      <td>1</td>\n",
       "      <td>KR&gt;12</td>\n",
       "      <td>1</td>\n",
       "    </tr>\n",
       "  </tbody>\n",
       "</table>\n",
       "</div>"
      ],
      "text/plain": [
       "             uuid document_id timestamp platform geo_location traffic_source\n",
       "0  1fd5f051fba643         120  31905835        1           RS              2\n",
       "1  8557aa9004be3b         120  32053104        1        VN>44              2\n",
       "2  c351b277a358f0         120  54013023        1        KR>12              1"
      ]
     },
     "metadata": {},
     "output_type": "display_data"
    },
    {
     "name": "stdout",
     "output_type": "stream",
     "text": [
      "page_views_sample\n"
     ]
    },
    {
     "data": {
      "text/html": [
       "<div>\n",
       "<style scoped>\n",
       "    .dataframe tbody tr th:only-of-type {\n",
       "        vertical-align: middle;\n",
       "    }\n",
       "\n",
       "    .dataframe tbody tr th {\n",
       "        vertical-align: top;\n",
       "    }\n",
       "\n",
       "    .dataframe thead th {\n",
       "        text-align: right;\n",
       "    }\n",
       "</style>\n",
       "<table border=\"1\" class=\"dataframe\">\n",
       "  <thead>\n",
       "    <tr style=\"text-align: right;\">\n",
       "      <th></th>\n",
       "      <th>uuid</th>\n",
       "      <th>document_id</th>\n",
       "      <th>timestamp</th>\n",
       "      <th>platform</th>\n",
       "      <th>geo_location</th>\n",
       "      <th>traffic_source</th>\n",
       "    </tr>\n",
       "  </thead>\n",
       "  <tbody>\n",
       "    <tr>\n",
       "      <th>0</th>\n",
       "      <td>1fd5f051fba643</td>\n",
       "      <td>120</td>\n",
       "      <td>31905835</td>\n",
       "      <td>1</td>\n",
       "      <td>RS</td>\n",
       "      <td>2</td>\n",
       "    </tr>\n",
       "    <tr>\n",
       "      <th>1</th>\n",
       "      <td>8557aa9004be3b</td>\n",
       "      <td>120</td>\n",
       "      <td>32053104</td>\n",
       "      <td>1</td>\n",
       "      <td>VN&gt;44</td>\n",
       "      <td>2</td>\n",
       "    </tr>\n",
       "    <tr>\n",
       "      <th>2</th>\n",
       "      <td>c351b277a358f0</td>\n",
       "      <td>120</td>\n",
       "      <td>54013023</td>\n",
       "      <td>1</td>\n",
       "      <td>KR&gt;12</td>\n",
       "      <td>1</td>\n",
       "    </tr>\n",
       "  </tbody>\n",
       "</table>\n",
       "</div>"
      ],
      "text/plain": [
       "             uuid document_id timestamp platform geo_location traffic_source\n",
       "0  1fd5f051fba643         120  31905835        1           RS              2\n",
       "1  8557aa9004be3b         120  32053104        1        VN>44              2\n",
       "2  c351b277a358f0         120  54013023        1        KR>12              1"
      ]
     },
     "metadata": {},
     "output_type": "display_data"
    },
    {
     "name": "stdout",
     "output_type": "stream",
     "text": [
      "promoted_content\n"
     ]
    },
    {
     "data": {
      "text/html": [
       "<div>\n",
       "<style scoped>\n",
       "    .dataframe tbody tr th:only-of-type {\n",
       "        vertical-align: middle;\n",
       "    }\n",
       "\n",
       "    .dataframe tbody tr th {\n",
       "        vertical-align: top;\n",
       "    }\n",
       "\n",
       "    .dataframe thead th {\n",
       "        text-align: right;\n",
       "    }\n",
       "</style>\n",
       "<table border=\"1\" class=\"dataframe\">\n",
       "  <thead>\n",
       "    <tr style=\"text-align: right;\">\n",
       "      <th></th>\n",
       "      <th>ad_id</th>\n",
       "      <th>document_id</th>\n",
       "      <th>campaign_id</th>\n",
       "      <th>advertiser_id</th>\n",
       "    </tr>\n",
       "  </thead>\n",
       "  <tbody>\n",
       "    <tr>\n",
       "      <th>0</th>\n",
       "      <td>1</td>\n",
       "      <td>6614</td>\n",
       "      <td>1</td>\n",
       "      <td>7</td>\n",
       "    </tr>\n",
       "    <tr>\n",
       "      <th>1</th>\n",
       "      <td>2</td>\n",
       "      <td>471467</td>\n",
       "      <td>2</td>\n",
       "      <td>7</td>\n",
       "    </tr>\n",
       "    <tr>\n",
       "      <th>2</th>\n",
       "      <td>3</td>\n",
       "      <td>7692</td>\n",
       "      <td>3</td>\n",
       "      <td>7</td>\n",
       "    </tr>\n",
       "  </tbody>\n",
       "</table>\n",
       "</div>"
      ],
      "text/plain": [
       "  ad_id document_id campaign_id advertiser_id\n",
       "0     1        6614           1             7\n",
       "1     2      471467           2             7\n",
       "2     3        7692           3             7"
      ]
     },
     "metadata": {},
     "output_type": "display_data"
    },
    {
     "name": "stdout",
     "output_type": "stream",
     "text": [
      "\n"
     ]
    }
   ],
   "source": [
    "from IPython.display import display\n",
    "tables = [\"clicks_test\", \"clicks_train\", \n",
    "          \"documents_categories\", \"documents_entities\", \"documents_meta\", \"documents_topics\", \n",
    "          \"events\", \"page_views\", \"page_views_sample\", \"promoted_content\"]\n",
    "for name in tqdm.tqdm(tables):\n",
    "    df = se.read.parquet(\"s3://ydatazian/{}.parquet\".format(name))\n",
    "    df.registerTempTable(name)\n",
    "    print(name)\n",
    "    display(df.limit(3).toPandas())"
   ]
  },
  {
   "cell_type": "markdown",
   "metadata": {},
   "source": [
    "# All clicks"
   ]
  },
  {
   "cell_type": "code",
   "execution_count": 5,
   "metadata": {},
   "outputs": [
    {
     "name": "stdout",
     "output_type": "stream",
     "text": [
      "Deleted /clicks.parquet\n",
      "CPU times: user 24.3 ms, sys: 5.94 ms, total: 30.2 ms\n",
      "Wall time: 48.4 s\n"
     ]
    }
   ],
   "source": [
    "%%time\n",
    "! hdfs dfs -rm -r /clicks.parquet\n",
    "se.sql(\"\"\"\n",
    "select *\n",
    "from \n",
    "    (\n",
    "    select \n",
    "        *,\n",
    "        true as is_train\n",
    "    from clicks_train\n",
    "    )\n",
    "    union\n",
    "    (\n",
    "    select \n",
    "        *,\n",
    "        \"0\" as clicked,\n",
    "        false as is_train\n",
    "    from clicks_test\n",
    "    )\n",
    "\"\"\").write.parquet(\"/clicks.parquet\")\n",
    "se.read.parquet(\"/clicks.parquet\").registerTempTable(\"clicks\")"
   ]
  },
  {
   "cell_type": "code",
   "execution_count": 7,
   "metadata": {},
   "outputs": [
    {
     "name": "stdout",
     "output_type": "stream",
     "text": [
      "+----------+------+-------+--------+\n",
      "|display_id| ad_id|clicked|is_train|\n",
      "+----------+------+-------+--------+\n",
      "|  16874662|257719|      0|   false|\n",
      "|  16874684|158271|      0|   false|\n",
      "|  16874738|285721|      0|   false|\n",
      "|  16874795|199447|      0|   false|\n",
      "|  16874839|222070|      0|   false|\n",
      "+----------+------+-------+--------+\n",
      "only showing top 5 rows\n",
      "\n"
     ]
    }
   ],
   "source": [
    "se.table(\"clicks\").show(5)"
   ]
  },
  {
   "cell_type": "markdown",
   "metadata": {},
   "source": [
    "# Ad_id features"
   ]
  },
  {
   "cell_type": "code",
   "execution_count": 8,
   "metadata": {},
   "outputs": [
    {
     "name": "stdout",
     "output_type": "stream",
     "text": [
      "rm: `/ad_entities.parquet': No such file or directory\n",
      "CPU times: user 21.4 ms, sys: 6.23 ms, total: 27.6 ms\n",
      "Wall time: 10.9 s\n"
     ]
    }
   ],
   "source": [
    "%%time\n",
    "! hdfs dfs -rm -r /ad_entities.parquet\n",
    "se.sql(\"\"\"\n",
    "select \n",
    "    pc.ad_id,\n",
    "    collect_list(struct(de.entity_id, cast(de.confidence_level as float) as confidence_level)) as ad_entities\n",
    "from promoted_content as pc join documents_entities as de on pc.document_id = de.document_id\n",
    "group by pc.ad_id\n",
    "\"\"\").write.parquet(\"/ad_entities.parquet\")\n",
    "se.read.parquet(\"/ad_entities.parquet\").registerTempTable(\"ad_entities\")"
   ]
  },
  {
   "cell_type": "code",
   "execution_count": 9,
   "metadata": {},
   "outputs": [
    {
     "data": {
      "text/html": [
       "<div>\n",
       "<style scoped>\n",
       "    .dataframe tbody tr th:only-of-type {\n",
       "        vertical-align: middle;\n",
       "    }\n",
       "\n",
       "    .dataframe tbody tr th {\n",
       "        vertical-align: top;\n",
       "    }\n",
       "\n",
       "    .dataframe thead th {\n",
       "        text-align: right;\n",
       "    }\n",
       "</style>\n",
       "<table border=\"1\" class=\"dataframe\">\n",
       "  <thead>\n",
       "    <tr style=\"text-align: right;\">\n",
       "      <th></th>\n",
       "      <th>ad_id</th>\n",
       "      <th>ad_entities</th>\n",
       "    </tr>\n",
       "  </thead>\n",
       "  <tbody>\n",
       "    <tr>\n",
       "      <th>0</th>\n",
       "      <td>100142</td>\n",
       "      <td>[(98bf11f29dd0160f58d870c0c7c6f07f, 0.226028174161911)]</td>\n",
       "    </tr>\n",
       "    <tr>\n",
       "      <th>1</th>\n",
       "      <td>100786</td>\n",
       "      <td>[(810e7275c37b02ca9a5f9d9d231026a5, 0.4200795590877533), (8324e76d44852e22856240b6d1aef8ed, 0.35910481214523315), (d551b0d2feb1f8a89239bccddd1165d8, 0.3047851026058197), (b3a036f452490cf3f66b3e9dd26e45c8, 0.2971663773059845), (1834eb4deaf946bebcd2f6a3e21e7261, 0.28737881779670715), (10fc9950c0115ec50bda13e11c97371b, 0.23719897866249084)]</td>\n",
       "    </tr>\n",
       "    <tr>\n",
       "      <th>2</th>\n",
       "      <td>100927</td>\n",
       "      <td>[(131f700eabaa8f979501bfab7e1292e9, 0.5807134509086609), (b7da2a65e94bb207d22d2f0a4160be8f, 0.487897664308548), (ef598e7005c5ce1415fe6d8c7b40b6fc, 0.2968069016933441), (16eab421b5c6234b361fbb4e165a5748, 0.2683892548084259), (88c79cc2ad4990c2157c9e87193ad9fd, 0.2671460807323456)]</td>\n",
       "    </tr>\n",
       "    <tr>\n",
       "      <th>3</th>\n",
       "      <td>100956</td>\n",
       "      <td>[(328584ed6b068951678fa66d0d555aa1, 0.4431387782096863)]</td>\n",
       "    </tr>\n",
       "    <tr>\n",
       "      <th>4</th>\n",
       "      <td>101136</td>\n",
       "      <td>[(a76d913c10865c3b5c2b2fbc194af0bc, 0.8150035738945007)]</td>\n",
       "    </tr>\n",
       "  </tbody>\n",
       "</table>\n",
       "</div>"
      ],
      "text/plain": [
       "    ad_id  \\\n",
       "0  100142   \n",
       "1  100786   \n",
       "2  100927   \n",
       "3  100956   \n",
       "4  101136   \n",
       "\n",
       "                                                                                                                                                                                                                                                                                                                                           ad_entities  \n",
       "0                                                                                                                                                                                                                                                                                              [(98bf11f29dd0160f58d870c0c7c6f07f, 0.226028174161911)]  \n",
       "1  [(810e7275c37b02ca9a5f9d9d231026a5, 0.4200795590877533), (8324e76d44852e22856240b6d1aef8ed, 0.35910481214523315), (d551b0d2feb1f8a89239bccddd1165d8, 0.3047851026058197), (b3a036f452490cf3f66b3e9dd26e45c8, 0.2971663773059845), (1834eb4deaf946bebcd2f6a3e21e7261, 0.28737881779670715), (10fc9950c0115ec50bda13e11c97371b, 0.23719897866249084)]  \n",
       "2                                                              [(131f700eabaa8f979501bfab7e1292e9, 0.5807134509086609), (b7da2a65e94bb207d22d2f0a4160be8f, 0.487897664308548), (ef598e7005c5ce1415fe6d8c7b40b6fc, 0.2968069016933441), (16eab421b5c6234b361fbb4e165a5748, 0.2683892548084259), (88c79cc2ad4990c2157c9e87193ad9fd, 0.2671460807323456)]  \n",
       "3                                                                                                                                                                                                                                                                                             [(328584ed6b068951678fa66d0d555aa1, 0.4431387782096863)]  \n",
       "4                                                                                                                                                                                                                                                                                             [(a76d913c10865c3b5c2b2fbc194af0bc, 0.8150035738945007)]  "
      ]
     },
     "execution_count": 9,
     "metadata": {},
     "output_type": "execute_result"
    }
   ],
   "source": [
    "se.table(\"ad_entities\").limit(5).toPandas()"
   ]
  },
  {
   "cell_type": "code",
   "execution_count": 10,
   "metadata": {},
   "outputs": [
    {
     "name": "stdout",
     "output_type": "stream",
     "text": [
      "root\n",
      " |-- ad_id: string (nullable = true)\n",
      " |-- ad_entities: array (nullable = true)\n",
      " |    |-- element: struct (containsNull = true)\n",
      " |    |    |-- entity_id: string (nullable = true)\n",
      " |    |    |-- confidence_level: float (nullable = true)\n",
      "\n"
     ]
    }
   ],
   "source": [
    "se.table(\"ad_entities\").printSchema()"
   ]
  },
  {
   "cell_type": "code",
   "execution_count": 11,
   "metadata": {},
   "outputs": [
    {
     "name": "stdout",
     "output_type": "stream",
     "text": [
      "rm: `/ad_topics.parquet': No such file or directory\n",
      "CPU times: user 17.8 ms, sys: 7.84 ms, total: 25.7 ms\n",
      "Wall time: 9.61 s\n"
     ]
    }
   ],
   "source": [
    "%%time\n",
    "! hdfs dfs -rm -r /ad_topics.parquet\n",
    "se.sql(\"\"\"\n",
    "select \n",
    "    pc.ad_id,\n",
    "    collect_list(struct(dt.topic_id, cast(dt.confidence_level as float) as confidence_level)) as ad_topics\n",
    "from promoted_content as pc join documents_topics as dt on pc.document_id = dt.document_id\n",
    "group by pc.ad_id\n",
    "\"\"\").write.parquet(\"/ad_topics.parquet\")\n",
    "se.read.parquet(\"/ad_topics.parquet\").registerTempTable(\"ad_topics\")"
   ]
  },
  {
   "cell_type": "code",
   "execution_count": 12,
   "metadata": {},
   "outputs": [
    {
     "data": {
      "text/html": [
       "<div>\n",
       "<style scoped>\n",
       "    .dataframe tbody tr th:only-of-type {\n",
       "        vertical-align: middle;\n",
       "    }\n",
       "\n",
       "    .dataframe tbody tr th {\n",
       "        vertical-align: top;\n",
       "    }\n",
       "\n",
       "    .dataframe thead th {\n",
       "        text-align: right;\n",
       "    }\n",
       "</style>\n",
       "<table border=\"1\" class=\"dataframe\">\n",
       "  <thead>\n",
       "    <tr style=\"text-align: right;\">\n",
       "      <th></th>\n",
       "      <th>ad_id</th>\n",
       "      <th>ad_topics</th>\n",
       "    </tr>\n",
       "  </thead>\n",
       "  <tbody>\n",
       "    <tr>\n",
       "      <th>0</th>\n",
       "      <td>100142</td>\n",
       "      <td>[(181, 0.3299613893032074)]</td>\n",
       "    </tr>\n",
       "    <tr>\n",
       "      <th>1</th>\n",
       "      <td>100786</td>\n",
       "      <td>[(249, 0.1530769318342209), (32, 0.08436058461666107), (297, 0.0451713502407074), (192, 0.03516631945967674), (85, 0.01974184438586235), (10, 0.01973884180188179), (181, 0.018032323569059372), (65, 0.012276466004550457), (146, 0.011644311249256134), (219, 0.0092721376568079)]</td>\n",
       "    </tr>\n",
       "    <tr>\n",
       "      <th>2</th>\n",
       "      <td>100841</td>\n",
       "      <td>[(92, 0.038239285349845886), (8, 0.029061492532491684), (100, 0.0285784974694252), (174, 0.019483203068375587), (258, 0.015252185054123402)]</td>\n",
       "    </tr>\n",
       "    <tr>\n",
       "      <th>3</th>\n",
       "      <td>100927</td>\n",
       "      <td>[(269, 0.34830808639526367)]</td>\n",
       "    </tr>\n",
       "    <tr>\n",
       "      <th>4</th>\n",
       "      <td>100956</td>\n",
       "      <td>[(16, 0.07634807378053665), (85, 0.0463380366563797), (249, 0.030323520302772522), (92, 0.018669400364160538), (17, 0.014306258410215378), (154, 0.010022616013884544), (258, 0.008142800070345402)]</td>\n",
       "    </tr>\n",
       "  </tbody>\n",
       "</table>\n",
       "</div>"
      ],
      "text/plain": [
       "    ad_id  \\\n",
       "0  100142   \n",
       "1  100786   \n",
       "2  100841   \n",
       "3  100927   \n",
       "4  100956   \n",
       "\n",
       "                                                                                                                                                                                                                                                                              ad_topics  \n",
       "0                                                                                                                                                                                                                                                           [(181, 0.3299613893032074)]  \n",
       "1  [(249, 0.1530769318342209), (32, 0.08436058461666107), (297, 0.0451713502407074), (192, 0.03516631945967674), (85, 0.01974184438586235), (10, 0.01973884180188179), (181, 0.018032323569059372), (65, 0.012276466004550457), (146, 0.011644311249256134), (219, 0.0092721376568079)]  \n",
       "2                                                                                                                                          [(92, 0.038239285349845886), (8, 0.029061492532491684), (100, 0.0285784974694252), (174, 0.019483203068375587), (258, 0.015252185054123402)]  \n",
       "3                                                                                                                                                                                                                                                          [(269, 0.34830808639526367)]  \n",
       "4                                                                                  [(16, 0.07634807378053665), (85, 0.0463380366563797), (249, 0.030323520302772522), (92, 0.018669400364160538), (17, 0.014306258410215378), (154, 0.010022616013884544), (258, 0.008142800070345402)]  "
      ]
     },
     "execution_count": 12,
     "metadata": {},
     "output_type": "execute_result"
    }
   ],
   "source": [
    "se.table(\"ad_topics\").limit(5).toPandas()"
   ]
  },
  {
   "cell_type": "code",
   "execution_count": 13,
   "metadata": {},
   "outputs": [
    {
     "name": "stdout",
     "output_type": "stream",
     "text": [
      "root\n",
      " |-- ad_id: string (nullable = true)\n",
      " |-- ad_topics: array (nullable = true)\n",
      " |    |-- element: struct (containsNull = true)\n",
      " |    |    |-- topic_id: string (nullable = true)\n",
      " |    |    |-- confidence_level: float (nullable = true)\n",
      "\n"
     ]
    }
   ],
   "source": [
    "se.table(\"ad_topics\").printSchema()"
   ]
  },
  {
   "cell_type": "markdown",
   "metadata": {},
   "source": [
    "# Display_id features (based on page_views)"
   ]
  },
  {
   "cell_type": "code",
   "execution_count": 14,
   "metadata": {},
   "outputs": [
    {
     "name": "stdout",
     "output_type": "stream",
     "text": [
      "717506889\n",
      "19794967\n"
     ]
    }
   ],
   "source": [
    "# 3% of users have display events with clicks (organic click rate)\n",
    "print(se.sql(\"select distinct(uuid) from page_views\").count())\n",
    "print(se.sql(\"select distinct(uuid) from events\").count())"
   ]
  },
  {
   "cell_type": "code",
   "execution_count": 15,
   "metadata": {},
   "outputs": [
    {
     "name": "stdout",
     "output_type": "stream",
     "text": [
      "23120126\n",
      "23120126\n"
     ]
    }
   ],
   "source": [
    "# display_ids are unique\n",
    "print(se.table('events').count())\n",
    "print(se.sql('select distinct(display_id) from events').count())"
   ]
  },
  {
   "cell_type": "code",
   "execution_count": 16,
   "metadata": {},
   "outputs": [
    {
     "name": "stdout",
     "output_type": "stream",
     "text": [
      "16874593\n",
      "6245533\n"
     ]
    }
   ],
   "source": [
    "# all display_ids are split 73% train / 27% test\n",
    "print(se.sql('select distinct(display_id) from clicks_train').count())\n",
    "print(se.sql('select distinct(display_id) from clicks_test').count())"
   ]
  },
  {
   "cell_type": "code",
   "execution_count": 17,
   "metadata": {},
   "outputs": [
    {
     "name": "stdout",
     "output_type": "stream",
     "text": [
      "1.0\n",
      "92.0\n",
      "CPU times: user 82.4 ms, sys: 0 ns, total: 82.4 ms\n",
      "Wall time: 46.1 s\n"
     ]
    },
    {
     "data": {
      "image/png": "[encoded data removed]",
      "text/plain": [
       "<Figure size 432x288 with 1 Axes>"
      ]
     },
     "metadata": {
      "needs_background": "light"
     },
     "output_type": "display_data"
    }
   ],
   "source": [
    "%%time\n",
    "# page views per user\n",
    "sizes = se.sql(\"\"\"\n",
    "select \n",
    "    uuid,\n",
    "    count(1) as s\n",
    "from page_views\n",
    "group by uuid\n",
    "limit 100000\n",
    "\"\"\").rdd.map(lambda x: x.s).collect()\n",
    "sizes = np.array(sizes)\n",
    "print(np.percentile(sizes, 1))\n",
    "print(np.percentile(sizes, 99))\n",
    "sizes = sizes[sizes < np.percentile(sizes, 99)]\n",
    "_ = plt.hist(sizes, bins=100)"
   ]
  },
  {
   "cell_type": "code",
   "execution_count": 18,
   "metadata": {},
   "outputs": [
    {
     "name": "stdout",
     "output_type": "stream",
     "text": [
      "rm: `/display_topics.parquet': No such file or directory\n",
      "CPU times: user 18.2 ms, sys: 17.7 ms, total: 35.9 ms\n",
      "Wall time: 2min 16s\n"
     ]
    }
   ],
   "source": [
    "%%time\n",
    "! hdfs dfs -rm -r /display_topics.parquet\n",
    "se.sql(\"\"\"\n",
    "select \n",
    "    tmp.display_id,\n",
    "    collect_list(struct(tmp.topic_id, tmp.confidence_level)) as display_topics\n",
    "from\n",
    "    (\n",
    "    select \n",
    "        e.display_id,\n",
    "        dt.topic_id,\n",
    "        sum(cast(dt.confidence_level as float)) as confidence_level\n",
    "    from events as e \n",
    "        join page_views as pv on e.uuid = pv.uuid\n",
    "        join documents_topics as dt on pv.document_id = dt.document_id\n",
    "    group by e.display_id, dt.topic_id\n",
    "    ) as tmp\n",
    "group by tmp.display_id\n",
    "\"\"\").write.parquet(\"/display_topics.parquet\")\n",
    "se.read.parquet(\"/display_topics.parquet\").registerTempTable(\"display_topics\")"
   ]
  },
  {
   "cell_type": "code",
   "execution_count": 19,
   "metadata": {},
   "outputs": [
    {
     "data": {
      "text/html": [
       "<div>\n",
       "<style scoped>\n",
       "    .dataframe tbody tr th:only-of-type {\n",
       "        vertical-align: middle;\n",
       "    }\n",
       "\n",
       "    .dataframe tbody tr th {\n",
       "        vertical-align: top;\n",
       "    }\n",
       "\n",
       "    .dataframe thead th {\n",
       "        text-align: right;\n",
       "    }\n",
       "</style>\n",
       "<table border=\"1\" class=\"dataframe\">\n",
       "  <thead>\n",
       "    <tr style=\"text-align: right;\">\n",
       "      <th></th>\n",
       "      <th>display_id</th>\n",
       "      <th>display_topics</th>\n",
       "    </tr>\n",
       "  </thead>\n",
       "  <tbody>\n",
       "    <tr>\n",
       "      <th>0</th>\n",
       "      <td>10000108</td>\n",
       "      <td>[(285, 0.05787719041109085), (36, 0.011638008058071136), (23, 0.011111683212220669), (226, 0.01831120066344738), (24, 0.03409966453909874)]</td>\n",
       "    </tr>\n",
       "    <tr>\n",
       "      <th>1</th>\n",
       "      <td>10000172</td>\n",
       "      <td>[(250, 0.026951756328344345), (271, 0.00905686430633068), (165, 0.011910940520465374), (291, 0.011835604906082153), (252, 0.04121653363108635), (8, 0.06744621694087982), (296, 0.0131217110902071), (117, 0.009993643499910831), (140, 0.09547334164381027), (43, 0.07451725751161575), (216, 0.030948465690016747), (265, 0.017551081255078316), (65, 0.01133553497493267)]</td>\n",
       "    </tr>\n",
       "    <tr>\n",
       "      <th>2</th>\n",
       "      <td>10000304</td>\n",
       "      <td>[(239, 0.009890459477901459), (148, 0.03774159401655197), (250, 0.01871490851044655), (19, 0.010221339762210846), (25, 0.09550920873880386), (9, 0.00835688691586256), (286, 0.011767380870878696), (43, 0.035802148282527924), (281, 0.0649278499186039), (134, 0.008266095072031021), (233, 0.010877534747123718), (17, 0.00829986296594143), (160, 0.6086612334474921), (254, 0.08038891851902008), (179, 0.04806268401443958), (86, 0.028774918988347054), (234, 0.010964683257043362), (181, 0.035898368805646896), (156, 0.008396882563829422), (110, 0.008071144111454487), (87, 0.03606506623327732), (8, 0.3981176484376192), (284, 0.013923902995884418), (265, 0.0391863826662302), (82, 0.035799325443804264), (136, 0.05665453150868416), (168, 0.008507328107953072), (89, 0.029356347396969795), (276, 0.009034703485667706), (16, 0.06784232892096043), (163, 0.03452271595597267), (10, 0.16390062309801579), (192, 0.04684021882712841), (92, 0.030851103365421295), (215, 0.00808124803006649), (47, 0.035426488146185875), (242, 0.010148745961487293), (173, 0.28092633187770844), (53, 0.010009721852838993), (213, 0.008168152533471584), (216, 0.008100329898297787), (219, 0.008387570269405842), (217, 0.040475181...</td>\n",
       "    </tr>\n",
       "    <tr>\n",
       "      <th>3</th>\n",
       "      <td>10000454</td>\n",
       "      <td>[(214, 0.11549584567546844), (66, 0.10618241131305695)]</td>\n",
       "    </tr>\n",
       "    <tr>\n",
       "      <th>4</th>\n",
       "      <td>10000472</td>\n",
       "      <td>[(16, 0.04280128329992294), (214, 0.24369288980960846), (174, 0.09856970608234406), (240, 0.5298454761505127), (66, 0.3372142016887665), (8, 0.07532715797424316), (252, 0.5444167256355286), (93, 0.023324333131313324), (153, 0.10199250280857086), (211, 0.03875367343425751), (288, 0.22514894604682922), (170, 0.06858696043491364), (19, 0.020135674625635147), (12, 0.008581609465181828), (176, 0.020381975919008255), (131, 0.0251818485558033), (294, 0.10637307912111282), (107, 0.028440061956644058), (43, 0.046946462243795395), (216, 0.03410104662179947), (172, 0.00802045688033104), (162, 0.009045521728694439)]</td>\n",
       "    </tr>\n",
       "  </tbody>\n",
       "</table>\n",
       "</div>"
      ],
      "text/plain": [
       "  display_id  \\\n",
       "0   10000108   \n",
       "1   10000172   \n",
       "2   10000304   \n",
       "3   10000454   \n",
       "4   10000472   \n",
       "\n",
       "                                                                                                                                                                                                                                                                                                                                                                                                                                                                                                                                                                                                                                                                                                                                                                                                                                                                                                                                                                                                                                                                                                                                                                                                                                    display_topics  \n",
       "0                                                                                                                                                                                                                                                                                                                                                                                                                                                                                                                                                                                                                                                                                                                                                                                                                                                                                                                                                                                                                                                                                                      [(285, 0.05787719041109085), (36, 0.011638008058071136), (23, 0.011111683212220669), (226, 0.01831120066344738), (24, 0.03409966453909874)]  \n",
       "1                                                                                                                                                                                                                                                                                                                                                                                                                                                                                                                                                                                                                                                                                                                                                                                                                                                                    [(250, 0.026951756328344345), (271, 0.00905686430633068), (165, 0.011910940520465374), (291, 0.011835604906082153), (252, 0.04121653363108635), (8, 0.06744621694087982), (296, 0.0131217110902071), (117, 0.009993643499910831), (140, 0.09547334164381027), (43, 0.07451725751161575), (216, 0.030948465690016747), (265, 0.017551081255078316), (65, 0.01133553497493267)]  \n",
       "2  [(239, 0.009890459477901459), (148, 0.03774159401655197), (250, 0.01871490851044655), (19, 0.010221339762210846), (25, 0.09550920873880386), (9, 0.00835688691586256), (286, 0.011767380870878696), (43, 0.035802148282527924), (281, 0.0649278499186039), (134, 0.008266095072031021), (233, 0.010877534747123718), (17, 0.00829986296594143), (160, 0.6086612334474921), (254, 0.08038891851902008), (179, 0.04806268401443958), (86, 0.028774918988347054), (234, 0.010964683257043362), (181, 0.035898368805646896), (156, 0.008396882563829422), (110, 0.008071144111454487), (87, 0.03606506623327732), (8, 0.3981176484376192), (284, 0.013923902995884418), (265, 0.0391863826662302), (82, 0.035799325443804264), (136, 0.05665453150868416), (168, 0.008507328107953072), (89, 0.029356347396969795), (276, 0.009034703485667706), (16, 0.06784232892096043), (163, 0.03452271595597267), (10, 0.16390062309801579), (192, 0.04684021882712841), (92, 0.030851103365421295), (215, 0.00808124803006649), (47, 0.035426488146185875), (242, 0.010148745961487293), (173, 0.28092633187770844), (53, 0.010009721852838993), (213, 0.008168152533471584), (216, 0.008100329898297787), (219, 0.008387570269405842), (217, 0.040475181...  \n",
       "3                                                                                                                                                                                                                                                                                                                                                                                                                                                                                                                                                                                                                                                                                                                                                                                                                                                                                                                                                                                                                                                                                                                                                                                          [(214, 0.11549584567546844), (66, 0.10618241131305695)]  \n",
       "4                                                                                                                                                                                                                                                                                                                                                                                                                                                                                                                                                                                                              [(16, 0.04280128329992294), (214, 0.24369288980960846), (174, 0.09856970608234406), (240, 0.5298454761505127), (66, 0.3372142016887665), (8, 0.07532715797424316), (252, 0.5444167256355286), (93, 0.023324333131313324), (153, 0.10199250280857086), (211, 0.03875367343425751), (288, 0.22514894604682922), (170, 0.06858696043491364), (19, 0.020135674625635147), (12, 0.008581609465181828), (176, 0.020381975919008255), (131, 0.0251818485558033), (294, 0.10637307912111282), (107, 0.028440061956644058), (43, 0.046946462243795395), (216, 0.03410104662179947), (172, 0.00802045688033104), (162, 0.009045521728694439)]  "
      ]
     },
     "execution_count": 19,
     "metadata": {},
     "output_type": "execute_result"
    }
   ],
   "source": [
    "se.table('display_topics').limit(5).toPandas()"
   ]
  },
  {
   "cell_type": "code",
   "execution_count": 20,
   "metadata": {},
   "outputs": [
    {
     "name": "stdout",
     "output_type": "stream",
     "text": [
      "rm: `/display_views.parquet': No such file or directory\n",
      "CPU times: user 23.2 ms, sys: 6.56 ms, total: 29.8 ms\n",
      "Wall time: 1min 13s\n"
     ]
    }
   ],
   "source": [
    "%%time\n",
    "! hdfs dfs -rm -r /display_views.parquet\n",
    "se.sql(\"\"\"\n",
    "select \n",
    "    e.display_id,\n",
    "    collect_list(pv.document_id) as views\n",
    "from events as e \n",
    "    join page_views as pv on e.uuid = pv.uuid\n",
    "group by e.display_id\n",
    "\"\"\").write.parquet(\"/display_views.parquet\")\n",
    "se.read.parquet(\"/display_views.parquet\").registerTempTable(\"display_views\")"
   ]
  },
  {
   "cell_type": "code",
   "execution_count": 21,
   "metadata": {},
   "outputs": [
    {
     "data": {
      "text/html": [
       "<div>\n",
       "<style scoped>\n",
       "    .dataframe tbody tr th:only-of-type {\n",
       "        vertical-align: middle;\n",
       "    }\n",
       "\n",
       "    .dataframe tbody tr th {\n",
       "        vertical-align: top;\n",
       "    }\n",
       "\n",
       "    .dataframe thead th {\n",
       "        text-align: right;\n",
       "    }\n",
       "</style>\n",
       "<table border=\"1\" class=\"dataframe\">\n",
       "  <thead>\n",
       "    <tr style=\"text-align: right;\">\n",
       "      <th></th>\n",
       "      <th>display_id</th>\n",
       "      <th>views</th>\n",
       "    </tr>\n",
       "  </thead>\n",
       "  <tbody>\n",
       "    <tr>\n",
       "      <th>0</th>\n",
       "      <td>10000108</td>\n",
       "      <td>[1126487]</td>\n",
       "    </tr>\n",
       "    <tr>\n",
       "      <th>1</th>\n",
       "      <td>10000172</td>\n",
       "      <td>[1233989]</td>\n",
       "    </tr>\n",
       "    <tr>\n",
       "      <th>2</th>\n",
       "      <td>10000304</td>\n",
       "      <td>[1075288, 1075290, 230213, 1088232, 1077407, 1077398, 1077376, 1077622, 1086036, 1077294, 1077663, 1077542, 229897, 654481]</td>\n",
       "    </tr>\n",
       "    <tr>\n",
       "      <th>3</th>\n",
       "      <td>10000454</td>\n",
       "      <td>[2410517, 2353341]</td>\n",
       "    </tr>\n",
       "    <tr>\n",
       "      <th>4</th>\n",
       "      <td>10000472</td>\n",
       "      <td>[2206674, 1096452, 1179111, 2398538, 1479883, 2851366, 1429540, 2350764, 2791394, 1179111]</td>\n",
       "    </tr>\n",
       "  </tbody>\n",
       "</table>\n",
       "</div>"
      ],
      "text/plain": [
       "  display_id  \\\n",
       "0   10000108   \n",
       "1   10000172   \n",
       "2   10000304   \n",
       "3   10000454   \n",
       "4   10000472   \n",
       "\n",
       "                                                                                                                         views  \n",
       "0                                                                                                                    [1126487]  \n",
       "1                                                                                                                    [1233989]  \n",
       "2  [1075288, 1075290, 230213, 1088232, 1077407, 1077398, 1077376, 1077622, 1086036, 1077294, 1077663, 1077542, 229897, 654481]  \n",
       "3                                                                                                           [2410517, 2353341]  \n",
       "4                                   [2206674, 1096452, 1179111, 2398538, 1479883, 2851366, 1429540, 2350764, 2791394, 1179111]  "
      ]
     },
     "execution_count": 21,
     "metadata": {},
     "output_type": "execute_result"
    }
   ],
   "source": [
    "se.table('display_views').limit(5).toPandas()"
   ]
  },
  {
   "cell_type": "code",
   "execution_count": 22,
   "metadata": {},
   "outputs": [
    {
     "name": "stdout",
     "output_type": "stream",
     "text": [
      "39.8 M  /ad_entities.parquet\r\n",
      "13.9 M  /ad_topics.parquet\r\n",
      "888.8 M  /clicks.parquet\r\n",
      "3.7 G  /display_topics.parquet\r\n",
      "1.8 G  /display_views.parquet\r\n",
      "0  /tmp\r\n",
      "220.5 M  /user\r\n",
      "312  /var\r\n"
     ]
    }
   ],
   "source": [
    "! hdfs dfs -du -s -h \"/*\""
   ]
  },
  {
   "cell_type": "markdown",
   "metadata": {},
   "source": [
    "# Prepare dataset for VW\n",
    "\n",
    "We will predict a *click* based on:\n",
    "- ad_id\n",
    "- document_id\n",
    "- campaign_id\n",
    "- advertiser_id\n",
    "- ad_topics\n",
    "- ad_entities\n",
    "- display_topics\n",
    "- display_views"
   ]
  },
  {
   "cell_type": "code",
   "execution_count": 23,
   "metadata": {},
   "outputs": [
    {
     "name": "stdout",
     "output_type": "stream",
     "text": [
      "+----------+------+-------+--------+\n",
      "|display_id| ad_id|clicked|is_train|\n",
      "+----------+------+-------+--------+\n",
      "|  16874662|257719|      0|   false|\n",
      "|  16874684|158271|      0|   false|\n",
      "|  16874738|285721|      0|   false|\n",
      "+----------+------+-------+--------+\n",
      "only showing top 3 rows\n",
      "\n"
     ]
    }
   ],
   "source": [
    "se.table(\"clicks\").show(3)"
   ]
  },
  {
   "cell_type": "code",
   "execution_count": 24,
   "metadata": {},
   "outputs": [
    {
     "name": "stdout",
     "output_type": "stream",
     "text": [
      "rm: `/features.parquet': No such file or directory\n",
      "CPU times: user 17.4 ms, sys: 13.5 ms, total: 30.9 ms\n",
      "Wall time: 1min 13s\n"
     ]
    }
   ],
   "source": [
    "%%time\n",
    "# join everything\n",
    "! hdfs dfs -rm -r /features.parquet\n",
    "se.sql(\"\"\"\n",
    "select \n",
    "    c.*,\n",
    "    pc.document_id,\n",
    "    pc.campaign_id,\n",
    "    pc.advertiser_id,\n",
    "    at.ad_topics,\n",
    "    ae.ad_entities,\n",
    "    dt.display_topics,\n",
    "    dv.views\n",
    "from clicks as c \n",
    "    left join promoted_content as pc on c.ad_id = pc.ad_id\n",
    "    left join ad_topics as at        on c.ad_id = at.ad_id\n",
    "    left join ad_entities as ae      on c.ad_id = ae.ad_id\n",
    "    left join display_topics as dt   on c.display_id = dt.display_id\n",
    "    left join display_views as dv    on c.display_id = dv.display_id\n",
    "\"\"\").write.parquet(\"/features.parquet\")\n",
    "se.read.parquet(\"/features.parquet\").registerTempTable('features')"
   ]
  },
  {
   "cell_type": "code",
   "execution_count": 25,
   "metadata": {},
   "outputs": [
    {
     "data": {
      "text/html": [
       "<div>\n",
       "<style scoped>\n",
       "    .dataframe tbody tr th:only-of-type {\n",
       "        vertical-align: middle;\n",
       "    }\n",
       "\n",
       "    .dataframe tbody tr th {\n",
       "        vertical-align: top;\n",
       "    }\n",
       "\n",
       "    .dataframe thead th {\n",
       "        text-align: right;\n",
       "    }\n",
       "</style>\n",
       "<table border=\"1\" class=\"dataframe\">\n",
       "  <thead>\n",
       "    <tr style=\"text-align: right;\">\n",
       "      <th></th>\n",
       "      <th>display_id</th>\n",
       "      <th>ad_id</th>\n",
       "      <th>clicked</th>\n",
       "      <th>is_train</th>\n",
       "      <th>document_id</th>\n",
       "      <th>campaign_id</th>\n",
       "      <th>advertiser_id</th>\n",
       "      <th>ad_topics</th>\n",
       "      <th>ad_entities</th>\n",
       "      <th>display_topics</th>\n",
       "      <th>views</th>\n",
       "    </tr>\n",
       "  </thead>\n",
       "  <tbody>\n",
       "    <tr>\n",
       "      <th>0</th>\n",
       "      <td>10000108</td>\n",
       "      <td>488469</td>\n",
       "      <td>0</td>\n",
       "      <td>True</td>\n",
       "      <td>2387648</td>\n",
       "      <td>65</td>\n",
       "      <td>29</td>\n",
       "      <td>[(117, 0.01972847431898117), (291, 0.014938888140022755), (92, 0.009732389822602272)]</td>\n",
       "      <td>[(9def146bc7cf83aa42bd7d71908a914d, 0.680088460445404)]</td>\n",
       "      <td>[(285, 0.05787719041109085), (36, 0.011638008058071136), (23, 0.011111683212220669), (226, 0.01831120066344738), (24, 0.03409966453909874)]</td>\n",
       "      <td>[1126487]</td>\n",
       "    </tr>\n",
       "    <tr>\n",
       "      <th>1</th>\n",
       "      <td>10000108</td>\n",
       "      <td>406686</td>\n",
       "      <td>0</td>\n",
       "      <td>True</td>\n",
       "      <td>1671134</td>\n",
       "      <td>27505</td>\n",
       "      <td>2879</td>\n",
       "      <td>[(26, 0.062456466257572174), (102, 0.055621176958084106), (291, 0.03329614922404289), (16, 0.03061726875603199), (256, 0.018938491120934486), (231, 0.012377371080219746)]</td>\n",
       "      <td>[(0e97841bde120a8faa5edeaca0b408d1, 0.3446024954319)]</td>\n",
       "      <td>[(285, 0.05787719041109085), (36, 0.011638008058071136), (23, 0.011111683212220669), (226, 0.01831120066344738), (24, 0.03409966453909874)]</td>\n",
       "      <td>[1126487]</td>\n",
       "    </tr>\n",
       "    <tr>\n",
       "      <th>2</th>\n",
       "      <td>10000108</td>\n",
       "      <td>132815</td>\n",
       "      <td>1</td>\n",
       "      <td>True</td>\n",
       "      <td>1227645</td>\n",
       "      <td>17018</td>\n",
       "      <td>331</td>\n",
       "      <td>[(285, 0.2907588481903076), (292, 0.25437211990356445), (93, 0.128691628575325)]</td>\n",
       "      <td>[(6de378ea48c0f426a9337e69799d3c5c, 0.5146595239639282), (24cb4629207b6ee75d44eaba8d80ebf9, 0.38699421286582947)]</td>\n",
       "      <td>[(285, 0.05787719041109085), (36, 0.011638008058071136), (23, 0.011111683212220669), (226, 0.01831120066344738), (24, 0.03409966453909874)]</td>\n",
       "      <td>[1126487]</td>\n",
       "    </tr>\n",
       "    <tr>\n",
       "      <th>3</th>\n",
       "      <td>10000108</td>\n",
       "      <td>406704</td>\n",
       "      <td>0</td>\n",
       "      <td>True</td>\n",
       "      <td>1678714</td>\n",
       "      <td>27506</td>\n",
       "      <td>2879</td>\n",
       "      <td>[(26, 0.062456440180540085), (102, 0.05562115088105202), (291, 0.03329617530107498), (16, 0.030617164447903633), (256, 0.018938491120934486), (231, 0.012377475388348103)]</td>\n",
       "      <td>[(0e97841bde120a8faa5edeaca0b408d1, 0.3446024954319)]</td>\n",
       "      <td>[(285, 0.05787719041109085), (36, 0.011638008058071136), (23, 0.011111683212220669), (226, 0.01831120066344738), (24, 0.03409966453909874)]</td>\n",
       "      <td>[1126487]</td>\n",
       "    </tr>\n",
       "    <tr>\n",
       "      <th>4</th>\n",
       "      <td>10000108</td>\n",
       "      <td>471551</td>\n",
       "      <td>0</td>\n",
       "      <td>True</td>\n",
       "      <td>2320075</td>\n",
       "      <td>32100</td>\n",
       "      <td>1743</td>\n",
       "      <td>[(260, 0.21083606779575348)]</td>\n",
       "      <td>None</td>\n",
       "      <td>[(285, 0.05787719041109085), (36, 0.011638008058071136), (23, 0.011111683212220669), (226, 0.01831120066344738), (24, 0.03409966453909874)]</td>\n",
       "      <td>[1126487]</td>\n",
       "    </tr>\n",
       "    <tr>\n",
       "      <th>5</th>\n",
       "      <td>10000108</td>\n",
       "      <td>133677</td>\n",
       "      <td>0</td>\n",
       "      <td>True</td>\n",
       "      <td>1297868</td>\n",
       "      <td>17143</td>\n",
       "      <td>1919</td>\n",
       "      <td>[(138, 0.31832021474838257)]</td>\n",
       "      <td>[(e2a8b2cdfec0424811e26ec81fe32f1c, 0.41047585010528564), (3488cf58018956e868fd6094cee461a6, 0.2921636402606964)]</td>\n",
       "      <td>[(285, 0.05787719041109085), (36, 0.011638008058071136), (23, 0.011111683212220669), (226, 0.01831120066344738), (24, 0.03409966453909874)]</td>\n",
       "      <td>[1126487]</td>\n",
       "    </tr>\n",
       "    <tr>\n",
       "      <th>6</th>\n",
       "      <td>10000108</td>\n",
       "      <td>449087</td>\n",
       "      <td>0</td>\n",
       "      <td>True</td>\n",
       "      <td>2135836</td>\n",
       "      <td>31474</td>\n",
       "      <td>3052</td>\n",
       "      <td>[(89, 0.3728715479373932), (271, 0.015715807676315308)]</td>\n",
       "      <td>[(cf9d52fe87a5d05f0ffeec1441dd8bd1, 0.5649054646492004), (ad72bfd8c03d8b5813aeb17867bc08ff, 0.5146899223327637), (a2750039e897552720b6eca28bc9e277, 0.2961665689945221), (d9f1823bdc43bfe6ca57f9d53fc132d7, 0.27304092049598694), (217d95aa6aae40ab13efd222d5c79e5a, 0.2568173408508301)]</td>\n",
       "      <td>[(285, 0.05787719041109085), (36, 0.011638008058071136), (23, 0.011111683212220669), (226, 0.01831120066344738), (24, 0.03409966453909874)]</td>\n",
       "      <td>[1126487]</td>\n",
       "    </tr>\n",
       "    <tr>\n",
       "      <th>7</th>\n",
       "      <td>10000172</td>\n",
       "      <td>116124</td>\n",
       "      <td>1</td>\n",
       "      <td>True</td>\n",
       "      <td>393819</td>\n",
       "      <td>2163</td>\n",
       "      <td>916</td>\n",
       "      <td>[(116, 0.10449840873479843)]</td>\n",
       "      <td>[(36f211cd593772f0c744091defa7e23d, 0.7523783445358276)]</td>\n",
       "      <td>[(250, 0.026951756328344345), (271, 0.00905686430633068), (165, 0.011910940520465374), (291, 0.011835604906082153), (252, 0.04121653363108635), (8, 0.06744621694087982), (296, 0.0131217110902071), (117, 0.009993643499910831), (140, 0.09547334164381027), (43, 0.07451725751161575), (216, 0.030948465690016747), (265, 0.017551081255078316), (65, 0.01133553497493267)]</td>\n",
       "      <td>[1233989]</td>\n",
       "    </tr>\n",
       "    <tr>\n",
       "      <th>8</th>\n",
       "      <td>10000172</td>\n",
       "      <td>45192</td>\n",
       "      <td>0</td>\n",
       "      <td>True</td>\n",
       "      <td>953930</td>\n",
       "      <td>6296</td>\n",
       "      <td>1594</td>\n",
       "      <td>[(136, 0.22979213297367096), (286, 0.00889626331627369)]</td>\n",
       "      <td>[(3e649c6ac725ebf28232ed95fb72383b, 0.7512244582176208), (01bfa7a8b6b7648b532e1aec9bcc0537, 0.35103821754455566), (780881eca6d43e3ba3de8fcc883102da, 0.30377885699272156)]</td>\n",
       "      <td>[(250, 0.026951756328344345), (271, 0.00905686430633068), (165, 0.011910940520465374), (291, 0.011835604906082153), (252, 0.04121653363108635), (8, 0.06744621694087982), (296, 0.0131217110902071), (117, 0.009993643499910831), (140, 0.09547334164381027), (43, 0.07451725751161575), (216, 0.030948465690016747), (265, 0.017551081255078316), (65, 0.01133553497493267)]</td>\n",
       "      <td>[1233989]</td>\n",
       "    </tr>\n",
       "    <tr>\n",
       "      <th>9</th>\n",
       "      <td>10000172</td>\n",
       "      <td>173006</td>\n",
       "      <td>0</td>\n",
       "      <td>True</td>\n",
       "      <td>1031141</td>\n",
       "      <td>21149</td>\n",
       "      <td>1703</td>\n",
       "      <td>[(140, 0.36589816212654114)]</td>\n",
       "      <td>[(965a9eb356846f3236277db51c388518, 0.5413560271263123), (08be752553a8bd1ee2cba71f40a00f84, 0.5135921835899353), (eb4b620935e5d5837fedbf0f846bd19d, 0.3000495731830597)]</td>\n",
       "      <td>[(250, 0.026951756328344345), (271, 0.00905686430633068), (165, 0.011910940520465374), (291, 0.011835604906082153), (252, 0.04121653363108635), (8, 0.06744621694087982), (296, 0.0131217110902071), (117, 0.009993643499910831), (140, 0.09547334164381027), (43, 0.07451725751161575), (216, 0.030948465690016747), (265, 0.017551081255078316), (65, 0.01133553497493267)]</td>\n",
       "      <td>[1233989]</td>\n",
       "    </tr>\n",
       "  </tbody>\n",
       "</table>\n",
       "</div>"
      ],
      "text/plain": [
       "  display_id   ad_id clicked  is_train document_id campaign_id advertiser_id  \\\n",
       "0   10000108  488469       0      True     2387648          65            29   \n",
       "1   10000108  406686       0      True     1671134       27505          2879   \n",
       "2   10000108  132815       1      True     1227645       17018           331   \n",
       "3   10000108  406704       0      True     1678714       27506          2879   \n",
       "4   10000108  471551       0      True     2320075       32100          1743   \n",
       "5   10000108  133677       0      True     1297868       17143          1919   \n",
       "6   10000108  449087       0      True     2135836       31474          3052   \n",
       "7   10000172  116124       1      True      393819        2163           916   \n",
       "8   10000172   45192       0      True      953930        6296          1594   \n",
       "9   10000172  173006       0      True     1031141       21149          1703   \n",
       "\n",
       "                                                                                                                                                                    ad_topics  \\\n",
       "0                                                                                       [(117, 0.01972847431898117), (291, 0.014938888140022755), (92, 0.009732389822602272)]   \n",
       "1  [(26, 0.062456466257572174), (102, 0.055621176958084106), (291, 0.03329614922404289), (16, 0.03061726875603199), (256, 0.018938491120934486), (231, 0.012377371080219746)]   \n",
       "2                                                                                            [(285, 0.2907588481903076), (292, 0.25437211990356445), (93, 0.128691628575325)]   \n",
       "3  [(26, 0.062456440180540085), (102, 0.05562115088105202), (291, 0.03329617530107498), (16, 0.030617164447903633), (256, 0.018938491120934486), (231, 0.012377475388348103)]   \n",
       "4                                                                                                                                                [(260, 0.21083606779575348)]   \n",
       "5                                                                                                                                                [(138, 0.31832021474838257)]   \n",
       "6                                                                                                                     [(89, 0.3728715479373932), (271, 0.015715807676315308)]   \n",
       "7                                                                                                                                                [(116, 0.10449840873479843)]   \n",
       "8                                                                                                                    [(136, 0.22979213297367096), (286, 0.00889626331627369)]   \n",
       "9                                                                                                                                                [(140, 0.36589816212654114)]   \n",
       "\n",
       "                                                                                                                                                                                                                                                                                 ad_entities  \\\n",
       "0                                                                                                                                                                                                                                    [(9def146bc7cf83aa42bd7d71908a914d, 0.680088460445404)]   \n",
       "1                                                                                                                                                                                                                                      [(0e97841bde120a8faa5edeaca0b408d1, 0.3446024954319)]   \n",
       "2                                                                                                                                                                          [(6de378ea48c0f426a9337e69799d3c5c, 0.5146595239639282), (24cb4629207b6ee75d44eaba8d80ebf9, 0.38699421286582947)]   \n",
       "3                                                                                                                                                                                                                                      [(0e97841bde120a8faa5edeaca0b408d1, 0.3446024954319)]   \n",
       "4                                                                                                                                                                                                                                                                                       None   \n",
       "5                                                                                                                                                                          [(e2a8b2cdfec0424811e26ec81fe32f1c, 0.41047585010528564), (3488cf58018956e868fd6094cee461a6, 0.2921636402606964)]   \n",
       "6  [(cf9d52fe87a5d05f0ffeec1441dd8bd1, 0.5649054646492004), (ad72bfd8c03d8b5813aeb17867bc08ff, 0.5146899223327637), (a2750039e897552720b6eca28bc9e277, 0.2961665689945221), (d9f1823bdc43bfe6ca57f9d53fc132d7, 0.27304092049598694), (217d95aa6aae40ab13efd222d5c79e5a, 0.2568173408508301)]   \n",
       "7                                                                                                                                                                                                                                   [(36f211cd593772f0c744091defa7e23d, 0.7523783445358276)]   \n",
       "8                                                                                                                 [(3e649c6ac725ebf28232ed95fb72383b, 0.7512244582176208), (01bfa7a8b6b7648b532e1aec9bcc0537, 0.35103821754455566), (780881eca6d43e3ba3de8fcc883102da, 0.30377885699272156)]   \n",
       "9                                                                                                                   [(965a9eb356846f3236277db51c388518, 0.5413560271263123), (08be752553a8bd1ee2cba71f40a00f84, 0.5135921835899353), (eb4b620935e5d5837fedbf0f846bd19d, 0.3000495731830597)]   \n",
       "\n",
       "                                                                                                                                                                                                                                                                                                                                                                  display_topics  \\\n",
       "0                                                                                                                                                                                                                                    [(285, 0.05787719041109085), (36, 0.011638008058071136), (23, 0.011111683212220669), (226, 0.01831120066344738), (24, 0.03409966453909874)]   \n",
       "1                                                                                                                                                                                                                                    [(285, 0.05787719041109085), (36, 0.011638008058071136), (23, 0.011111683212220669), (226, 0.01831120066344738), (24, 0.03409966453909874)]   \n",
       "2                                                                                                                                                                                                                                    [(285, 0.05787719041109085), (36, 0.011638008058071136), (23, 0.011111683212220669), (226, 0.01831120066344738), (24, 0.03409966453909874)]   \n",
       "3                                                                                                                                                                                                                                    [(285, 0.05787719041109085), (36, 0.011638008058071136), (23, 0.011111683212220669), (226, 0.01831120066344738), (24, 0.03409966453909874)]   \n",
       "4                                                                                                                                                                                                                                    [(285, 0.05787719041109085), (36, 0.011638008058071136), (23, 0.011111683212220669), (226, 0.01831120066344738), (24, 0.03409966453909874)]   \n",
       "5                                                                                                                                                                                                                                    [(285, 0.05787719041109085), (36, 0.011638008058071136), (23, 0.011111683212220669), (226, 0.01831120066344738), (24, 0.03409966453909874)]   \n",
       "6                                                                                                                                                                                                                                    [(285, 0.05787719041109085), (36, 0.011638008058071136), (23, 0.011111683212220669), (226, 0.01831120066344738), (24, 0.03409966453909874)]   \n",
       "7  [(250, 0.026951756328344345), (271, 0.00905686430633068), (165, 0.011910940520465374), (291, 0.011835604906082153), (252, 0.04121653363108635), (8, 0.06744621694087982), (296, 0.0131217110902071), (117, 0.009993643499910831), (140, 0.09547334164381027), (43, 0.07451725751161575), (216, 0.030948465690016747), (265, 0.017551081255078316), (65, 0.01133553497493267)]   \n",
       "8  [(250, 0.026951756328344345), (271, 0.00905686430633068), (165, 0.011910940520465374), (291, 0.011835604906082153), (252, 0.04121653363108635), (8, 0.06744621694087982), (296, 0.0131217110902071), (117, 0.009993643499910831), (140, 0.09547334164381027), (43, 0.07451725751161575), (216, 0.030948465690016747), (265, 0.017551081255078316), (65, 0.01133553497493267)]   \n",
       "9  [(250, 0.026951756328344345), (271, 0.00905686430633068), (165, 0.011910940520465374), (291, 0.011835604906082153), (252, 0.04121653363108635), (8, 0.06744621694087982), (296, 0.0131217110902071), (117, 0.009993643499910831), (140, 0.09547334164381027), (43, 0.07451725751161575), (216, 0.030948465690016747), (265, 0.017551081255078316), (65, 0.01133553497493267)]   \n",
       "\n",
       "       views  \n",
       "0  [1126487]  \n",
       "1  [1126487]  \n",
       "2  [1126487]  \n",
       "3  [1126487]  \n",
       "4  [1126487]  \n",
       "5  [1126487]  \n",
       "6  [1126487]  \n",
       "7  [1233989]  \n",
       "8  [1233989]  \n",
       "9  [1233989]  "
      ]
     },
     "execution_count": 25,
     "metadata": {},
     "output_type": "execute_result"
    }
   ],
   "source": [
    "se.table('features').limit(10).toPandas()"
   ]
  },
  {
   "cell_type": "code",
   "execution_count": 26,
   "metadata": {},
   "outputs": [
    {
     "name": "stdout",
     "output_type": "stream",
     "text": [
      "Row(display_id='10000108', ad_id='488469', clicked='0', is_train=True, document_id='2387648', campaign_id='65', advertiser_id='29', ad_topics=[Row(topic_id='117', confidence_level=0.01972847431898117), Row(topic_id='291', confidence_level=0.014938888140022755), Row(topic_id='92', confidence_level=0.009732389822602272)], ad_entities=[Row(entity_id='9def146bc7cf83aa42bd7d71908a914d', confidence_level=0.680088460445404)], display_topics=[Row(topic_id='285', confidence_level=0.05787719041109085), Row(topic_id='36', confidence_level=0.011638008058071136), Row(topic_id='23', confidence_level=0.011111683212220669), Row(topic_id='226', confidence_level=0.01831120066344738), Row(topic_id='24', confidence_level=0.03409966453909874)], views=['1126487'])\n",
      "-1 10000108_488469|a ad_id_488469 document_id_2387648 campaign_id_65 advertiser_id_29 ad_topic_117:0.444337 ad_topic_291:0.336463 ad_topic_92:0.219199 ad_entity_9def146bc7cf83aa42bd7d71908a914d:1.0 |d display_topic_285:0.435043 display_topic_36:0.087479 display_topic_23:0.0835228 display_topic_226:0.137639 display_topic_24:0.256316 v_1126487:0.999999 \n"
     ]
    }
   ],
   "source": [
    "# Format: [Label] [Importance] [Base] [Tag]|Namespace Features |Namespace Features ... |Namespace Features\n",
    "# https://github.com/VowpalWabbit/vowpal_wabbit/wiki/Input-format\n",
    "def vw_row_mapper(row):\n",
    "    clicked = '1' if row.clicked == '1' else '-1'\n",
    "    # item features\n",
    "    item_features = \"|a \"\n",
    "    item_features += \"ad_id_{}\".format(row.ad_id) + \" \"\n",
    "    item_features += \"document_id_{}\".format(row.document_id) + \" \"\n",
    "    item_features += \"campaign_id_{}\".format(row.campaign_id) + \" \"\n",
    "    item_features += \"advertiser_id_{}\".format(row.advertiser_id) + \" \"\n",
    "    if row.ad_topics:\n",
    "        s = sum(v for k, v in row.ad_topics)\n",
    "        item_features += \" \".join(\"ad_topic_{}:{:.6}\".format(k, v / s) for k, v in row.ad_topics) + \" \"\n",
    "    if row.ad_entities:\n",
    "        s = sum(v for k, v in row.ad_entities)\n",
    "        item_features += \" \".join(\"ad_entity_{}:{:.6}\".format(k, v / s) for k, v in row.ad_entities) + \" \"\n",
    "    # display features\n",
    "    display_features = \"|d \"\n",
    "    if row.display_topics:\n",
    "        s = sum(v for k, v in row.display_topics)\n",
    "        display_features += \" \".join(\"display_topic_{}:{:.6}\".format(k, v / s) for k, v in row.display_topics) + \" \"\n",
    "    if row.views:\n",
    "        s = float(len(row.views)) + 1e-6\n",
    "        display_features += \" \".join(\"v_{}:{:.6}\".format(k, 1 / s) for k in row.views) + \" \"\n",
    "    # tag\n",
    "    tag = row.display_id + \"_\" + row.ad_id\n",
    "    # result\n",
    "    return clicked + \" \" + tag + item_features + display_features\n",
    "\n",
    "r = se.table(\"features\").take(1)[0]\n",
    "print(r)\n",
    "print(vw_row_mapper(r))"
   ]
  },
  {
   "cell_type": "code",
   "execution_count": 27,
   "metadata": {},
   "outputs": [
    {
     "name": "stdout",
     "output_type": "stream",
     "text": [
      "rm: `/train.txt': No such file or directory\n",
      "CPU times: user 44.6 ms, sys: 23 ms, total: 67.6 ms\n",
      "Wall time: 6min 5s\n"
     ]
    }
   ],
   "source": [
    "%%time\n",
    "! hdfs dfs -rm -r /train.txt\n",
    "(\n",
    "    se.sql(\"select * from features where is_train = true\")\n",
    "    .rdd\n",
    "    .map(vw_row_mapper)\n",
    "    .repartition(16)\n",
    "    .saveAsTextFile(\"/train.txt\")\n",
    ")"
   ]
  },
  {
   "cell_type": "code",
   "execution_count": 28,
   "metadata": {},
   "outputs": [
    {
     "name": "stdout",
     "output_type": "stream",
     "text": [
      "rm: `/test.txt': No such file or directory\n",
      "CPU times: user 43.6 ms, sys: 13.6 ms, total: 57.2 ms\n",
      "Wall time: 2min 34s\n"
     ]
    }
   ],
   "source": [
    "%%time\n",
    "! hdfs dfs -rm -r /test.txt\n",
    "(\n",
    "    se.sql(\"select * from features where is_train = false\")\n",
    "    .rdd\n",
    "    .map(vw_row_mapper)\n",
    "    .repartition(16)\n",
    "    .saveAsTextFile(\"/test.txt\")\n",
    ")"
   ]
  },
  {
   "cell_type": "code",
   "execution_count": 29,
   "metadata": {},
   "outputs": [],
   "source": [
    "# # backup to s3\n",
    "# sc.textFile(\"/train.txt\").saveAsTextFile(\"s3://ydatazian/private/train.txt\")\n",
    "# sc.textFile(\"/test.txt\").saveAsTextFile(\"s3://ydatazian/private/test.txt\")"
   ]
  },
  {
   "cell_type": "code",
   "execution_count": 30,
   "metadata": {},
   "outputs": [],
   "source": [
    "# # restore from s3\n",
    "# sc.textFile(\"s3://ydatazian/private/train.txt\").repartition(16).saveAsTextFile(\"/train.txt\")\n",
    "# sc.textFile(\"s3://ydatazian/private/test.txt\").repartition(16).saveAsTextFile(\"/test.txt\")"
   ]
  },
  {
   "cell_type": "markdown",
   "metadata": {},
   "source": [
    "# Train VW (locally)\n",
    "https://vowpalwabbit.org/tutorials/getting_started.html\n",
    "\n",
    "https://github.com/JohnLangford/vowpal_wabbit/wiki/Command-line-arguments\n",
    "\n",
    "https://github.com/VowpalWabbit/vowpal_wabbit/wiki/Feature-interactions\n",
    "\n",
    "https://github.com/VowpalWabbit/vowpal_wabbit/wiki/Matrix-factorization-example"
   ]
  },
  {
   "cell_type": "code",
   "execution_count": 31,
   "metadata": {},
   "outputs": [
    {
     "name": "stdout",
     "output_type": "stream",
     "text": [
      "rm: cannot remove ‘/mnt/train.txt’: No such file or directory\n",
      "-1 10000514_192149|a ad_id_192149 document_id_942989 campaign_id_9029 advertiser_id_92 ad_topic_44:1.0 ad_entity_77fc252f7e6102c4fdccfe01a1bddbdc:1.0 |d display_topic_120:0.105214 display_topic_170:0.0174445 display_topic_295:0.153359 display_topic_238:0.0968393 display_topic_197:0.146665 display_topic_85:0.0570714 display_topic_125:0.114302 display_topic_61:0.0308145 display_topic_49:0.0855988 display_topic_124:0.0175641 display_topic_21:0.136006 display_topic_144:0.0391211 v_2713002:0.047619 v_2763551:0.047619 v_2685949:0.047619 v_2763042:0.047619 v_923947:0.047619 v_2619347:0.047619 v_1280592:0.047619 v_2616874:0.047619 v_2645001:0.047619 v_2665310:0.047619 v_2748992:0.047619 v_2810201:0.047619 v_2749354:0.047619 v_2776041:0.047619 v_2690073:0.047619 v_2991481:0.047619 v_2798702:0.047619 v_2715859:0.047619 v_2570526:0.047619 v_2619347:0.047619 v_2569995:0.047619 \n",
      "96G\t/mnt/train.txt\n",
      "CPU times: user 1.53 s, sys: 461 ms, total: 1.99 s\n",
      "Wall time: 3min 2s\n"
     ]
    }
   ],
   "source": [
    "%%time\n",
    "! rm /mnt/train.txt\n",
    "! hdfs dfs -getmerge /train.txt /mnt/train.txt\n",
    "! head -n 1 /mnt/train.txt\n",
    "! du -sh /mnt/train.txt"
   ]
  },
  {
   "cell_type": "code",
   "execution_count": 35,
   "metadata": {
    "scrolled": false
   },
   "outputs": [],
   "source": [
    "# having \"1 9439386_139078|a ad_topic_285:0.2917 |d v_1833848:0.0555556\"\n",
    "# \"-q ad\" adds feature \"ad_topic_285_v_1833848:0.2917*0.0555556\"\n",
    "\n",
    "# run in bash:\n",
    "# ./vw -d /mnt/train.txt -b 24 -c -k --passes 10 -q ad --ftrl -f model --loss_function logistic --random_seed 42 --progress 4000000\n",
    "\n",
    "# after 4 hours (0.66399 on kaggle):\n",
    "# 0.429484 0.424172    764000000    764000000.0  -1.0000  -3.7267      110 h\n",
    "# 0.429459 0.424666    768000000    768000000.0  -1.0000  -2.1116       22 h\n",
    "# 0.429443 0.426491    772000000    772000000.0  -1.0000  -3.1180      220 h\n",
    "# 0.429427 0.426250    776000000    776000000.0  -1.0000  -1.4412      396 h\n",
    "# 0.429413 0.426716    780000000    780000000.0  -1.0000  -1.1197      763 h\n",
    "# 0.429397 0.426318    784000000    784000000.0  -1.0000  -0.9019       54 h"
   ]
  },
  {
   "cell_type": "markdown",
   "metadata": {},
   "source": [
    "# Train VW (parallel)"
   ]
  },
  {
   "cell_type": "code",
   "execution_count": null,
   "metadata": {},
   "outputs": [],
   "source": [
    "# run in bash:\n",
    "# ./mapscript-yarn.sh /model_parallel /train.txt\n",
    "\n",
    "# after 12 minutes (0.66610 on kaggle):\n",
    "# SGD\n",
    "# 0.499552 0.423783      9700000      9700000.0  -1.0000  -1.3010     1326 h\n",
    "# 0.498792 0.425089      9800000      9800000.0  -1.0000  -2.4354      100 h\n",
    "# BFGS\n",
    "# 1 0.41196\n",
    "# 3 0.42231"
   ]
  },
  {
   "cell_type": "markdown",
   "metadata": {},
   "source": [
    "# Submitting to Kaggle\n",
    "\n",
    "Obtain Kaggle API token: https://github.com/Kaggle/kaggle-api#api-credentials\n",
    "\n",
    "Making a submission: https://github.com/Kaggle/kaggle-api#submit-to-a-competition"
   ]
  },
  {
   "cell_type": "code",
   "execution_count": null,
   "metadata": {},
   "outputs": [],
   "source": [
    "! mkdir ~/.kaggle\n",
    "! touch ~/.kaggle/kaggle.json\n",
    "! echo '{\"username\":\"?\",\"key\":\"?\"}' > ~/.kaggle/kaggle.json\n",
    "! cat ~/.kaggle/kaggle.json\n",
    "! chmod 600 /home/hadoop/.kaggle/kaggle.json"
   ]
  },
  {
   "cell_type": "code",
   "execution_count": 33,
   "metadata": {},
   "outputs": [
    {
     "name": "stdout",
     "output_type": "stream",
     "text": [
      "download: s3://ydatazian/sample_submission.csv to ./sample_submission.csv\n"
     ]
    }
   ],
   "source": [
    "! aws s3 cp s3://ydatazian/sample_submission.csv ."
   ]
  },
  {
   "cell_type": "code",
   "execution_count": 34,
   "metadata": {},
   "outputs": [
    {
     "name": "stdout",
     "output_type": "stream",
     "text": [
      "display_id,ad_id\r\n",
      "16874594,66758 150083 162754 170392 172888 180797\r\n",
      "16874595,8846 30609 143982\r\n",
      "16874596,11430 57197 132820 153260 173005 288385 289122 289915\r\n",
      "16874597,137858 143981 155945 180965 182039 285834 305790 308836\r\n"
     ]
    }
   ],
   "source": [
    "# https://www.kaggle.com/c/outbrain-click-prediction/overview/evaluation\n",
    "# For each display_id in the test set, you must predict a space-delimited list of ad_ids, \n",
    "# ordered by decreasing likelihood of being clicked.\n",
    "! head -n 5 ./sample_submission.csv"
   ]
  },
  {
   "cell_type": "code",
   "execution_count": 35,
   "metadata": {},
   "outputs": [
    {
     "name": "stdout",
     "output_type": "stream",
     "text": [
      "rm: cannot remove ‘/mnt/test.txt’: No such file or directory\n",
      "-1 16875379_19833|a ad_id_19833 document_id_518504 campaign_id_3198 advertiser_id_1197 ad_topic_249:0.289588 ad_topic_252:0.0994768 ad_topic_20:0.093665 ad_topic_297:0.0793495 ad_topic_65:0.0677146 ad_topic_89:0.056625 ad_topic_269:0.0484169 ad_topic_85:0.0468051 ad_topic_219:0.0420888 ad_topic_16:0.0404728 ad_topic_36:0.0356512 ad_topic_67:0.0290011 ad_topic_32:0.0233754 ad_topic_15:0.0191763 ad_topic_216:0.014427 ad_topic_182:0.0141665 ad_entity_91d43803f34bdb68190d2d58ff009887:0.187379 ad_entity_f995628391697263e172e9a51dfe90ff:0.163801 ad_entity_532543fb8065af6208c59a479ace6664:0.153201 ad_entity_f71dc73c999b793986d8e1d4c368e57a:0.145318 ad_entity_d6368cbde429f0acabfaa9aeb171353d:0.130501 ad_entity_485f36c04543af1850e167f2e88b0c8d:0.11071 ad_entity_be5f7e3e560f226d1869def8542d5329:0.10909 |d display_topic_16:0.0131555 display_topic_241:0.0270196 display_topic_200:0.377145 display_topic_26:0.00851415 display_topic_196:0.0280459 display_topic_214:0.0175792 display_topic_97:0.00978096 display_topic_173:0.0996336 display_topic_153:0.0125796 display_topic_63:0.148531 display_topic_181:0.101436 display_topic_89:0.0380802 display_topic_168:0.0428793 display_topic_254:0.0756198 v_1761403:0.142857 v_2615332:0.142857 v_447933:0.142857 v_2176768:0.142857 v_2029005:0.142857 v_655417:0.142857 v_1850998:0.142857 \n",
      "34G\t/mnt/test.txt\n",
      "CPU times: user 661 ms, sys: 184 ms, total: 844 ms\n",
      "Wall time: 1min 7s\n"
     ]
    }
   ],
   "source": [
    "%%time\n",
    "! rm /mnt/test.txt\n",
    "! hdfs dfs -getmerge /test.txt /mnt/test.txt\n",
    "! head -n 1 /mnt/test.txt\n",
    "! du -sh /mnt/test.txt"
   ]
  },
  {
   "cell_type": "code",
   "execution_count": 36,
   "metadata": {},
   "outputs": [
    {
     "name": "stdout",
     "output_type": "stream",
     "text": [
      "-rw-r--r-- 1 hadoop hadoop 129M May 26 22:17 model_parallel\r\n"
     ]
    }
   ],
   "source": [
    "# model trained with parallel vw\n",
    "! hdfs dfs -copyToLocal /model_parallel/bfgs.vwmodel.3 model_parallel\n",
    "! ls -lh model_parallel"
   ]
  },
  {
   "cell_type": "code",
   "execution_count": 37,
   "metadata": {
    "scrolled": false
   },
   "outputs": [
    {
     "name": "stdout",
     "output_type": "stream",
     "text": [
      "creating quadratic features for pairs: ad \n",
      "only testing\n",
      "predictions = /mnt/predictions.txt\n",
      "enabling BFGS based optimization **without** curvature calculation\n",
      "Num weight bits = 24\n",
      "learning rate = 0.5\n",
      "initial_t = 0\n",
      "power_t = 0.5\n",
      "m = 15\n",
      "Allocated 2176M for weights and mem\n",
      "## avg. loss \tder. mag. \td. m. cond.\t wolfe1    \twolfe2    \tmix fraction\tcurvature \tdir. magnitude\tstep size\n",
      "using no cache\n",
      "Reading datafile = /mnt/test.txt\n",
      "num sources = 1\n",
      " 1 -nan      \t-nan      \t-nan      \t          \t          \t          \tMaximum number of passes reached. If you want to optimize further, increase the number of passes\n",
      "\n",
      "finished run\n",
      "number of examples = 32225162\n",
      "weighted example sum = 32225162.000000\n",
      "weighted label sum = -32225162.000000\n",
      "average loss = 1.579073\n",
      "best constant = -1.000000\n",
      "best constant's loss = 0.000000\n",
      "total feature number = 11635166047\n",
      "0.410955 16875379_19833\n",
      "0.304138 16875379_31413\n",
      "0.076730 16875379_238211\n",
      "0.131512 16875538_43928\n",
      "0.096628 16875538_108201\n"
     ]
    }
   ],
   "source": [
    "! ./vw -d /mnt/test.txt -i model_parallel -t -k -p /mnt/predictions.txt --progress 1000000 --link=logistic\n",
    "# predicted probabilities of \"1\" class\n",
    "! head -n 5 /mnt/predictions.txt"
   ]
  },
  {
   "cell_type": "code",
   "execution_count": 38,
   "metadata": {},
   "outputs": [
    {
     "name": "stdout",
     "output_type": "stream",
     "text": [
      "32225162 /mnt/predictions.txt\r\n"
     ]
    }
   ],
   "source": [
    "! wc -l /mnt/predictions.txt"
   ]
  },
  {
   "cell_type": "code",
   "execution_count": 39,
   "metadata": {},
   "outputs": [
    {
     "data": {
      "application/vnd.jupyter.widget-view+json": {
       "model_id": "042697f4280348388a6a94036afd67bb",
       "version_major": 2,
       "version_minor": 0
      },
      "text/plain": [
       "HBox(children=(FloatProgress(value=1.0, bar_style='info', max=1.0), HTML(value='')))"
      ]
     },
     "metadata": {},
     "output_type": "display_data"
    },
    {
     "name": "stdout",
     "output_type": "stream",
     "text": [
      "\n"
     ]
    }
   ],
   "source": [
    "from collections import defaultdict\n",
    "scores_by_display_id = defaultdict(dict)\n",
    "for line in tqdm.tqdm(open('/mnt/predictions.txt')):\n",
    "    score, tag = line.strip().split(\" \")\n",
    "    score = float(score)\n",
    "    display_id, ad_id = tag.split(\"_\")\n",
    "    scores_by_display_id[display_id][ad_id] = score"
   ]
  },
  {
   "cell_type": "code",
   "execution_count": 40,
   "metadata": {},
   "outputs": [
    {
     "data": {
      "application/vnd.jupyter.widget-view+json": {
       "model_id": "b7242e9a5472420683ab97caab5d5650",
       "version_major": 2,
       "version_minor": 0
      },
      "text/plain": [
       "HBox(children=(FloatProgress(value=0.0, max=6245533.0), HTML(value='')))"
      ]
     },
     "metadata": {},
     "output_type": "display_data"
    },
    {
     "name": "stdout",
     "output_type": "stream",
     "text": [
      "\n"
     ]
    }
   ],
   "source": [
    "with open(\"submission.txt\", \"w\") as f:\n",
    "    f.write(\"display_id,ad_id\\n\")\n",
    "    for k, vs in tqdm.tqdm_notebook(scores_by_display_id.items()):\n",
    "        f.write(\"{},{}\\n\".format(\n",
    "            k, \n",
    "            \" \".join([v[0] for v in sorted(vs.items(), key=lambda x: -x[1])])\n",
    "        ))"
   ]
  },
  {
   "cell_type": "code",
   "execution_count": 41,
   "metadata": {},
   "outputs": [
    {
     "name": "stdout",
     "output_type": "stream",
     "text": [
      "100%|████████████████████████████████████████| 260M/260M [00:03<00:00, 70.9MB/s]\n",
      "Successfully submitted to Outbrain Click Prediction"
     ]
    }
   ],
   "source": [
    "! kaggle competitions submit -f submission.txt outbrain-click-prediction -m \"ad interactions parallel\""
   ]
  },
  {
   "cell_type": "code",
   "execution_count": null,
   "metadata": {},
   "outputs": [],
   "source": []
  }
 ],
 "metadata": {
  "kernelspec": {
   "display_name": "Python 3",
   "language": "python",
   "name": "python3"
  },
  "language_info": {
   "codemirror_mode": {
    "name": "ipython",
    "version": 3
   },
   "file_extension": ".py",
   "mimetype": "text/x-python",
   "name": "python",
   "nbconvert_exporter": "python",
   "pygments_lexer": "ipython3",
   "version": "3.6.8"
  }
 },
 "nbformat": 4,
 "nbformat_minor": 4
}
